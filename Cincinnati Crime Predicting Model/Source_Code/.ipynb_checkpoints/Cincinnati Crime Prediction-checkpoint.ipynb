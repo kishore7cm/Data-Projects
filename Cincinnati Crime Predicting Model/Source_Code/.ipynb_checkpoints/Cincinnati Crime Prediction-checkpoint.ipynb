{
 "cells": [
  {
   "cell_type": "code",
   "execution_count": 1,
   "metadata": {},
   "outputs": [
    {
     "name": "stderr",
     "output_type": "stream",
     "text": [
      "C:\\Users\\kisho\\Anaconda3\\lib\\site-packages\\sklearn\\externals\\six.py:31: DeprecationWarning: The module is deprecated in version 0.21 and will be removed in version 0.23 since we've dropped support for Python 2.7. Please rely on the official version of six (https://pypi.org/project/six/).\n",
      "  \"(https://pypi.org/project/six/).\", DeprecationWarning)\n"
     ]
    }
   ],
   "source": [
    "import pandas as pd\n",
    "import matplotlib.pyplot as plt\n",
    "import numpy as np\n",
    "from sklearn.preprocessing import StandardScaler\n",
    "from sklearn.cluster import KMeans\n",
    "from sklearn.metrics import silhouette_score\n",
    "from sklearn.preprocessing import MinMaxScaler\n",
    "from datetime import datetime\n",
    "import seaborn as sns\n",
    "from sklearn.tree import DecisionTreeClassifier # Import Decision Tree Classifier\n",
    "from sklearn.model_selection import train_test_split # Import train_test_split function\n",
    "from sklearn import metrics #Import scikit-learn metrics module for accuracy calculation\n",
    "from sklearn.tree import export_graphviz\n",
    "from sklearn.externals.six import StringIO  \n",
    "from IPython.display import Image  \n",
    "import pydotplus\n",
    "from sklearn.linear_model import LogisticRegression\n",
    "from sklearn.ensemble import RandomForestClassifier"
   ]
  },
  {
   "cell_type": "code",
   "execution_count": 2,
   "metadata": {},
   "outputs": [],
   "source": [
    "#Project on Violent crimes in cincinnati and predicting it."
   ]
  },
  {
   "cell_type": "code",
   "execution_count": 3,
   "metadata": {},
   "outputs": [],
   "source": [
    "#Let us analyze the household income level of cincinnati from 2013 to 2019.\n",
    "#Because poverty is one of the reasons for crimes"
   ]
  },
  {
   "cell_type": "code",
   "execution_count": 4,
   "metadata": {},
   "outputs": [],
   "source": [
    "income = pd.read_csv('D:\\python\\Python_project\\Datasets\\Income by location.csv')"
   ]
  },
  {
   "cell_type": "code",
   "execution_count": 5,
   "metadata": {},
   "outputs": [],
   "source": [
    "#Data had values only till the eyar 2017 , did forecasting to add values for 2018 and 2019"
   ]
  },
  {
   "cell_type": "code",
   "execution_count": 6,
   "metadata": {},
   "outputs": [
    {
     "data": {
      "text/html": [
       "<div>\n",
       "<style scoped>\n",
       "    .dataframe tbody tr th:only-of-type {\n",
       "        vertical-align: middle;\n",
       "    }\n",
       "\n",
       "    .dataframe tbody tr th {\n",
       "        vertical-align: top;\n",
       "    }\n",
       "\n",
       "    .dataframe thead th {\n",
       "        text-align: right;\n",
       "    }\n",
       "</style>\n",
       "<table border=\"1\" class=\"dataframe\">\n",
       "  <thead>\n",
       "    <tr style=\"text-align: right;\">\n",
       "      <th></th>\n",
       "      <th>ID Year</th>\n",
       "      <th>Year</th>\n",
       "      <th>ID Race</th>\n",
       "      <th>Race</th>\n",
       "      <th>Household Income by Race</th>\n",
       "      <th>Household Income by Race Moe</th>\n",
       "      <th>Geography</th>\n",
       "      <th>ID Geography</th>\n",
       "    </tr>\n",
       "  </thead>\n",
       "  <tbody>\n",
       "    <tr>\n",
       "      <td>0</td>\n",
       "      <td>2013</td>\n",
       "      <td>2013</td>\n",
       "      <td>0</td>\n",
       "      <td>Total</td>\n",
       "      <td>36412.000</td>\n",
       "      <td>5673.000</td>\n",
       "      <td>Census Tract 108, Hamilton County, OH</td>\n",
       "      <td>14000US39061010800</td>\n",
       "    </tr>\n",
       "    <tr>\n",
       "      <td>1</td>\n",
       "      <td>2013</td>\n",
       "      <td>2013</td>\n",
       "      <td>0</td>\n",
       "      <td>Total</td>\n",
       "      <td>18852.000</td>\n",
       "      <td>4267.000</td>\n",
       "      <td>Census Tract 94, Hamilton County, OH</td>\n",
       "      <td>14000US39061009400</td>\n",
       "    </tr>\n",
       "    <tr>\n",
       "      <td>2</td>\n",
       "      <td>2013</td>\n",
       "      <td>2013</td>\n",
       "      <td>0</td>\n",
       "      <td>Total</td>\n",
       "      <td>12799.000</td>\n",
       "      <td>2927.000</td>\n",
       "      <td>Census Tract 36, Hamilton County, OH</td>\n",
       "      <td>14000US39061003600</td>\n",
       "    </tr>\n",
       "    <tr>\n",
       "      <td>3</td>\n",
       "      <td>2013</td>\n",
       "      <td>2013</td>\n",
       "      <td>0</td>\n",
       "      <td>Total</td>\n",
       "      <td>20164.000</td>\n",
       "      <td>5162.000</td>\n",
       "      <td>Census Tract 77, Hamilton County, OH</td>\n",
       "      <td>14000US39061007700</td>\n",
       "    </tr>\n",
       "    <tr>\n",
       "      <td>4</td>\n",
       "      <td>2013</td>\n",
       "      <td>2013</td>\n",
       "      <td>0</td>\n",
       "      <td>Total</td>\n",
       "      <td>23157.000</td>\n",
       "      <td>5524.000</td>\n",
       "      <td>Census Tract 29, Hamilton County, OH</td>\n",
       "      <td>14000US39061002900</td>\n",
       "    </tr>\n",
       "    <tr>\n",
       "      <td>...</td>\n",
       "      <td>...</td>\n",
       "      <td>...</td>\n",
       "      <td>...</td>\n",
       "      <td>...</td>\n",
       "      <td>...</td>\n",
       "      <td>...</td>\n",
       "      <td>...</td>\n",
       "      <td>...</td>\n",
       "    </tr>\n",
       "    <tr>\n",
       "      <td>834</td>\n",
       "      <td>2019</td>\n",
       "      <td>2019</td>\n",
       "      <td>0</td>\n",
       "      <td>Total</td>\n",
       "      <td>20653.548</td>\n",
       "      <td>6322.692</td>\n",
       "      <td>Census Tract 71, Hamilton County, OH</td>\n",
       "      <td>14000US39061007100</td>\n",
       "    </tr>\n",
       "    <tr>\n",
       "      <td>835</td>\n",
       "      <td>2019</td>\n",
       "      <td>2019</td>\n",
       "      <td>0</td>\n",
       "      <td>Total</td>\n",
       "      <td>33369.522</td>\n",
       "      <td>8701.032</td>\n",
       "      <td>Census Tract 75, Hamilton County, OH</td>\n",
       "      <td>14000US39061007500</td>\n",
       "    </tr>\n",
       "    <tr>\n",
       "      <td>836</td>\n",
       "      <td>2019</td>\n",
       "      <td>2019</td>\n",
       "      <td>0</td>\n",
       "      <td>Total</td>\n",
       "      <td>29865.000</td>\n",
       "      <td>9047.466</td>\n",
       "      <td>Census Tract 72, Hamilton County, OH</td>\n",
       "      <td>14000US39061007200</td>\n",
       "    </tr>\n",
       "    <tr>\n",
       "      <td>837</td>\n",
       "      <td>2019</td>\n",
       "      <td>2019</td>\n",
       "      <td>0</td>\n",
       "      <td>Total</td>\n",
       "      <td>39639.000</td>\n",
       "      <td>21133.560</td>\n",
       "      <td>Census Tract 74, Hamilton County, OH</td>\n",
       "      <td>14000US39061007400</td>\n",
       "    </tr>\n",
       "    <tr>\n",
       "      <td>838</td>\n",
       "      <td>2019</td>\n",
       "      <td>2019</td>\n",
       "      <td>0</td>\n",
       "      <td>Total</td>\n",
       "      <td>31706.856</td>\n",
       "      <td>8748.816</td>\n",
       "      <td>Census Tract 73, Hamilton County, OH</td>\n",
       "      <td>14000US39061007300</td>\n",
       "    </tr>\n",
       "  </tbody>\n",
       "</table>\n",
       "<p>839 rows × 8 columns</p>\n",
       "</div>"
      ],
      "text/plain": [
       "     ID Year  Year  ID Race   Race  Household Income by Race  \\\n",
       "0       2013  2013        0  Total                 36412.000   \n",
       "1       2013  2013        0  Total                 18852.000   \n",
       "2       2013  2013        0  Total                 12799.000   \n",
       "3       2013  2013        0  Total                 20164.000   \n",
       "4       2013  2013        0  Total                 23157.000   \n",
       "..       ...   ...      ...    ...                       ...   \n",
       "834     2019  2019        0  Total                 20653.548   \n",
       "835     2019  2019        0  Total                 33369.522   \n",
       "836     2019  2019        0  Total                 29865.000   \n",
       "837     2019  2019        0  Total                 39639.000   \n",
       "838     2019  2019        0  Total                 31706.856   \n",
       "\n",
       "     Household Income by Race Moe                              Geography  \\\n",
       "0                        5673.000  Census Tract 108, Hamilton County, OH   \n",
       "1                        4267.000   Census Tract 94, Hamilton County, OH   \n",
       "2                        2927.000   Census Tract 36, Hamilton County, OH   \n",
       "3                        5162.000   Census Tract 77, Hamilton County, OH   \n",
       "4                        5524.000   Census Tract 29, Hamilton County, OH   \n",
       "..                            ...                                    ...   \n",
       "834                      6322.692   Census Tract 71, Hamilton County, OH   \n",
       "835                      8701.032   Census Tract 75, Hamilton County, OH   \n",
       "836                      9047.466   Census Tract 72, Hamilton County, OH   \n",
       "837                     21133.560   Census Tract 74, Hamilton County, OH   \n",
       "838                      8748.816   Census Tract 73, Hamilton County, OH   \n",
       "\n",
       "           ID Geography  \n",
       "0    14000US39061010800  \n",
       "1    14000US39061009400  \n",
       "2    14000US39061003600  \n",
       "3    14000US39061007700  \n",
       "4    14000US39061002900  \n",
       "..                  ...  \n",
       "834  14000US39061007100  \n",
       "835  14000US39061007500  \n",
       "836  14000US39061007200  \n",
       "837  14000US39061007400  \n",
       "838  14000US39061007300  \n",
       "\n",
       "[839 rows x 8 columns]"
      ]
     },
     "execution_count": 6,
     "metadata": {},
     "output_type": "execute_result"
    }
   ],
   "source": [
    "income"
   ]
  },
  {
   "cell_type": "code",
   "execution_count": 7,
   "metadata": {},
   "outputs": [],
   "source": [
    "income_by_year = income.groupby('Year',as_index=False).agg({'Household Income by Race Moe':'mean'})"
   ]
  },
  {
   "cell_type": "code",
   "execution_count": 8,
   "metadata": {},
   "outputs": [
    {
     "data": {
      "text/html": [
       "<div>\n",
       "<style scoped>\n",
       "    .dataframe tbody tr th:only-of-type {\n",
       "        vertical-align: middle;\n",
       "    }\n",
       "\n",
       "    .dataframe tbody tr th {\n",
       "        vertical-align: top;\n",
       "    }\n",
       "\n",
       "    .dataframe thead th {\n",
       "        text-align: right;\n",
       "    }\n",
       "</style>\n",
       "<table border=\"1\" class=\"dataframe\">\n",
       "  <thead>\n",
       "    <tr style=\"text-align: right;\">\n",
       "      <th></th>\n",
       "      <th>Year</th>\n",
       "      <th>Household Income by Race Moe</th>\n",
       "    </tr>\n",
       "  </thead>\n",
       "  <tbody>\n",
       "    <tr>\n",
       "      <td>0</td>\n",
       "      <td>2013</td>\n",
       "      <td>8644.350000</td>\n",
       "    </tr>\n",
       "    <tr>\n",
       "      <td>1</td>\n",
       "      <td>2014</td>\n",
       "      <td>8300.466667</td>\n",
       "    </tr>\n",
       "    <tr>\n",
       "      <td>2</td>\n",
       "      <td>2015</td>\n",
       "      <td>7836.425000</td>\n",
       "    </tr>\n",
       "    <tr>\n",
       "      <td>3</td>\n",
       "      <td>2016</td>\n",
       "      <td>8713.386555</td>\n",
       "    </tr>\n",
       "    <tr>\n",
       "      <td>4</td>\n",
       "      <td>2017</td>\n",
       "      <td>9341.733333</td>\n",
       "    </tr>\n",
       "    <tr>\n",
       "      <td>5</td>\n",
       "      <td>2018</td>\n",
       "      <td>8964.190950</td>\n",
       "    </tr>\n",
       "    <tr>\n",
       "      <td>6</td>\n",
       "      <td>2019</td>\n",
       "      <td>9387.764100</td>\n",
       "    </tr>\n",
       "  </tbody>\n",
       "</table>\n",
       "</div>"
      ],
      "text/plain": [
       "   Year  Household Income by Race Moe\n",
       "0  2013                   8644.350000\n",
       "1  2014                   8300.466667\n",
       "2  2015                   7836.425000\n",
       "3  2016                   8713.386555\n",
       "4  2017                   9341.733333\n",
       "5  2018                   8964.190950\n",
       "6  2019                   9387.764100"
      ]
     },
     "execution_count": 8,
     "metadata": {},
     "output_type": "execute_result"
    }
   ],
   "source": [
    "income_by_year"
   ]
  },
  {
   "cell_type": "code",
   "execution_count": 9,
   "metadata": {},
   "outputs": [
    {
     "data": {
      "image/png": "[encoded data removed]",
      "text/plain": [
       "<Figure size 432x288 with 1 Axes>"
      ]
     },
     "metadata": {
      "needs_background": "light"
     },
     "output_type": "display_data"
    }
   ],
   "source": [
    "plt.plot('Year','Household Income by Race Moe',data=income_by_year,color='skyblue')\n",
    "plt.show()"
   ]
  },
  {
   "cell_type": "markdown",
   "metadata": {},
   "source": [
    "Now Let us analyze the crime dataset and use that for modelling"
   ]
  },
  {
   "cell_type": "code",
   "execution_count": 10,
   "metadata": {},
   "outputs": [
    {
     "name": "stderr",
     "output_type": "stream",
     "text": [
      "C:\\Users\\kisho\\Anaconda3\\lib\\site-packages\\IPython\\core\\interactiveshell.py:3058: DtypeWarning: Columns (8,17) have mixed types. Specify dtype option on import or set low_memory=False.\n",
      "  interactivity=interactivity, compiler=compiler, result=result)\n"
     ]
    }
   ],
   "source": [
    "crimes = pd.read_csv('D:\\python\\Python_project\\Datasets\\Crime.csv')"
   ]
  },
  {
   "cell_type": "code",
   "execution_count": 11,
   "metadata": {},
   "outputs": [
    {
     "data": {
      "text/plain": [
       "Index(['INSTANCEID', 'INCIDENT_NO', 'DATE_REPORTED', 'DATE_FROM', 'DATE_TO',\n",
       "       'CLSD', 'UCR', 'DST', 'BEAT', 'OFFENSE', 'LOCATION', 'THEFT_CODE',\n",
       "       'FLOOR', 'SIDE', 'OPENING', 'HATE_BIAS', 'DAYOFWEEK', 'RPT_AREA',\n",
       "       'CPD_NEIGHBORHOOD', 'SNA_NEIGHBORHOOD', 'WEAPONS', 'DATE_OF_CLEARANCE',\n",
       "       'HOUR_FROM', 'HOUR_TO', 'ADDRESS_X', 'LONGITUDE_X', 'LATITUDE_X',\n",
       "       'VICTIM_AGE', 'VICTIM_RACE', 'VICTIM_ETHNICITY', 'VICTIM_GENDER',\n",
       "       'SUSPECT_AGE', 'SUSPECT_RACE', 'SUSPECT_ETHNICITY', 'SUSPECT_GENDER',\n",
       "       'TOTALNUMBERVICTIMS', 'TOTALSUSPECTS', 'UCR_GROUP',\n",
       "       'COMMUNITY_COUNCIL_NEIGHBORHOOD', 'ZIP'],\n",
       "      dtype='object')"
      ]
     },
     "execution_count": 11,
     "metadata": {},
     "output_type": "execute_result"
    }
   ],
   "source": [
    "crimes.columns"
   ]
  },
  {
   "cell_type": "code",
   "execution_count": 12,
   "metadata": {},
   "outputs": [],
   "source": [
    "#Let us drop the columns right now that we might not use for modelling"
   ]
  },
  {
   "cell_type": "code",
   "execution_count": 13,
   "metadata": {},
   "outputs": [],
   "source": [
    "crimes=crimes.drop(['INSTANCEID','COMMUNITY_COUNCIL_NEIGHBORHOOD','FLOOR','SIDE','OPENING','CLSD', 'UCR', 'DST', 'BEAT','RPT_AREA','UCR_GROUP','THEFT_CODE','HATE_BIAS','VICTIM_ETHNICITY','SUSPECT_ETHNICITY'],axis=1)"
   ]
  },
  {
   "cell_type": "code",
   "execution_count": 14,
   "metadata": {},
   "outputs": [],
   "source": [
    "crimes = crimes.dropna().reset_index(drop=True)"
   ]
  },
  {
   "cell_type": "code",
   "execution_count": 19,
   "metadata": {},
   "outputs": [
    {
     "data": {
      "text/html": [
       "<div>\n",
       "<style scoped>\n",
       "    .dataframe tbody tr th:only-of-type {\n",
       "        vertical-align: middle;\n",
       "    }\n",
       "\n",
       "    .dataframe tbody tr th {\n",
       "        vertical-align: top;\n",
       "    }\n",
       "\n",
       "    .dataframe thead th {\n",
       "        text-align: right;\n",
       "    }\n",
       "</style>\n",
       "<table border=\"1\" class=\"dataframe\">\n",
       "  <thead>\n",
       "    <tr style=\"text-align: right;\">\n",
       "      <th></th>\n",
       "      <th>INCIDENT_NO</th>\n",
       "      <th>DATE_REPORTED</th>\n",
       "      <th>DATE_FROM</th>\n",
       "      <th>DATE_TO</th>\n",
       "      <th>OFFENSE</th>\n",
       "      <th>LOCATION</th>\n",
       "      <th>DAYOFWEEK</th>\n",
       "      <th>CPD_NEIGHBORHOOD</th>\n",
       "      <th>SNA_NEIGHBORHOOD</th>\n",
       "      <th>WEAPONS</th>\n",
       "      <th>...</th>\n",
       "      <th>LATITUDE_X</th>\n",
       "      <th>VICTIM_AGE</th>\n",
       "      <th>VICTIM_RACE</th>\n",
       "      <th>VICTIM_GENDER</th>\n",
       "      <th>SUSPECT_AGE</th>\n",
       "      <th>SUSPECT_RACE</th>\n",
       "      <th>SUSPECT_GENDER</th>\n",
       "      <th>TOTALNUMBERVICTIMS</th>\n",
       "      <th>TOTALSUSPECTS</th>\n",
       "      <th>ZIP</th>\n",
       "    </tr>\n",
       "  </thead>\n",
       "  <tbody>\n",
       "    <tr>\n",
       "      <td>0</td>\n",
       "      <td>129036747</td>\n",
       "      <td>12/18/2012 10:30:00 PM</td>\n",
       "      <td>12/18/2012 10:24:00 PM</td>\n",
       "      <td>12/18/2012 10:25:00 PM</td>\n",
       "      <td>AGGRAVATED ROBBERY</td>\n",
       "      <td>47-STREET</td>\n",
       "      <td>TUESDAY</td>\n",
       "      <td>WALNUT HILLS</td>\n",
       "      <td>WALNUT HILLS</td>\n",
       "      <td>12 - HANDGUN</td>\n",
       "      <td>...</td>\n",
       "      <td>39.126512</td>\n",
       "      <td>41-50</td>\n",
       "      <td>BLACK</td>\n",
       "      <td>MALE</td>\n",
       "      <td>UNKNOWN</td>\n",
       "      <td>BLACK</td>\n",
       "      <td>MALE</td>\n",
       "      <td>1.0</td>\n",
       "      <td>3.0</td>\n",
       "      <td>45206.0</td>\n",
       "    </tr>\n",
       "    <tr>\n",
       "      <td>1</td>\n",
       "      <td>149026722</td>\n",
       "      <td>10/20/2014 11:09:00 AM</td>\n",
       "      <td>10/19/2014 10:00:00 PM</td>\n",
       "      <td>10/20/2014 10:30:00 AM</td>\n",
       "      <td>THEFT</td>\n",
       "      <td>48-PARKING LOT</td>\n",
       "      <td>SUNDAY</td>\n",
       "      <td>WALNUT HILLS</td>\n",
       "      <td>WALNUT HILLS</td>\n",
       "      <td>99 - NONE</td>\n",
       "      <td>...</td>\n",
       "      <td>39.129501</td>\n",
       "      <td>31-40</td>\n",
       "      <td>BLACK</td>\n",
       "      <td>FEMALE</td>\n",
       "      <td>31-40</td>\n",
       "      <td>WHITE</td>\n",
       "      <td>MALE</td>\n",
       "      <td>1.0</td>\n",
       "      <td>2.0</td>\n",
       "      <td>45206.0</td>\n",
       "    </tr>\n",
       "    <tr>\n",
       "      <td>2</td>\n",
       "      <td>179011319</td>\n",
       "      <td>04/03/2017 08:50:00 PM</td>\n",
       "      <td>04/03/2017 05:00:00 PM</td>\n",
       "      <td>04/03/2017 05:10:00 PM</td>\n",
       "      <td>AGGRAVATED ROBBERY</td>\n",
       "      <td>48-PARKING LOT</td>\n",
       "      <td>MONDAY</td>\n",
       "      <td>MOUNT AIRY</td>\n",
       "      <td>MT. AIRY</td>\n",
       "      <td>12 - HANDGUN</td>\n",
       "      <td>...</td>\n",
       "      <td>39.192750</td>\n",
       "      <td>UNDER 18</td>\n",
       "      <td>BLACK</td>\n",
       "      <td>MALE</td>\n",
       "      <td>UNDER 18</td>\n",
       "      <td>BLACK</td>\n",
       "      <td>MALE</td>\n",
       "      <td>2.0</td>\n",
       "      <td>2.0</td>\n",
       "      <td>45239.0</td>\n",
       "    </tr>\n",
       "    <tr>\n",
       "      <td>3</td>\n",
       "      <td>139026892</td>\n",
       "      <td>09/29/2013 10:46:00 PM</td>\n",
       "      <td>09/29/2013 08:00:00 PM</td>\n",
       "      <td>09/29/2013 09:00:00 PM</td>\n",
       "      <td>MENACING BY STALKING</td>\n",
       "      <td>01-SINGLE FAMILY HOME</td>\n",
       "      <td>SUNDAY</td>\n",
       "      <td>COLLEGE  HILL</td>\n",
       "      <td>COLLEGE HILL</td>\n",
       "      <td>40 - PERSONAL WEAPONS (HANDS, FEET, TEETH, ETC.)</td>\n",
       "      <td>...</td>\n",
       "      <td>39.207029</td>\n",
       "      <td>31-40</td>\n",
       "      <td>BLACK</td>\n",
       "      <td>MALE</td>\n",
       "      <td>26-30</td>\n",
       "      <td>BLACK</td>\n",
       "      <td>FEMALE</td>\n",
       "      <td>2.0</td>\n",
       "      <td>1.0</td>\n",
       "      <td>45224.0</td>\n",
       "    </tr>\n",
       "    <tr>\n",
       "      <td>4</td>\n",
       "      <td>139014514</td>\n",
       "      <td>06/07/2013 08:33:00 PM</td>\n",
       "      <td>06/07/2013 08:20:00 PM</td>\n",
       "      <td>06/07/2013 08:30:00 PM</td>\n",
       "      <td>ASSAULT</td>\n",
       "      <td>47-STREET</td>\n",
       "      <td>FRIDAY</td>\n",
       "      <td>EVANSTON</td>\n",
       "      <td>EVANSTON</td>\n",
       "      <td>99 - NONE</td>\n",
       "      <td>...</td>\n",
       "      <td>39.140473</td>\n",
       "      <td>26-30</td>\n",
       "      <td>BLACK</td>\n",
       "      <td>FEMALE</td>\n",
       "      <td>18-25</td>\n",
       "      <td>BLACK</td>\n",
       "      <td>FEMALE</td>\n",
       "      <td>3.0</td>\n",
       "      <td>4.0</td>\n",
       "      <td>45207.0</td>\n",
       "    </tr>\n",
       "    <tr>\n",
       "      <td>...</td>\n",
       "      <td>...</td>\n",
       "      <td>...</td>\n",
       "      <td>...</td>\n",
       "      <td>...</td>\n",
       "      <td>...</td>\n",
       "      <td>...</td>\n",
       "      <td>...</td>\n",
       "      <td>...</td>\n",
       "      <td>...</td>\n",
       "      <td>...</td>\n",
       "      <td>...</td>\n",
       "      <td>...</td>\n",
       "      <td>...</td>\n",
       "      <td>...</td>\n",
       "      <td>...</td>\n",
       "      <td>...</td>\n",
       "      <td>...</td>\n",
       "      <td>...</td>\n",
       "      <td>...</td>\n",
       "      <td>...</td>\n",
       "      <td>...</td>\n",
       "    </tr>\n",
       "    <tr>\n",
       "      <td>147093</td>\n",
       "      <td>149028275</td>\n",
       "      <td>11/04/2014 06:10:00 PM</td>\n",
       "      <td>11/04/2014 05:40:00 PM</td>\n",
       "      <td>11/04/2014 05:40:00 PM</td>\n",
       "      <td>AGGRAVATED ROBBERY</td>\n",
       "      <td>47-STREET</td>\n",
       "      <td>TUESDAY</td>\n",
       "      <td>OVER-THE-RHINE</td>\n",
       "      <td>OVER-THE-RHINE</td>\n",
       "      <td>12 - HANDGUN</td>\n",
       "      <td>...</td>\n",
       "      <td>39.111243</td>\n",
       "      <td>26-30</td>\n",
       "      <td>WHITE</td>\n",
       "      <td>MALE</td>\n",
       "      <td>UNKNOWN</td>\n",
       "      <td>BLACK</td>\n",
       "      <td>MALE</td>\n",
       "      <td>1.0</td>\n",
       "      <td>3.0</td>\n",
       "      <td>45202.0</td>\n",
       "    </tr>\n",
       "    <tr>\n",
       "      <td>147094</td>\n",
       "      <td>189017619</td>\n",
       "      <td>06/30/2018 08:55:00 PM</td>\n",
       "      <td>06/30/2018 07:55:00 PM</td>\n",
       "      <td>06/30/2018 08:15:00 PM</td>\n",
       "      <td>ASSAULT</td>\n",
       "      <td>11-HOSPITAL</td>\n",
       "      <td>SATURDAY</td>\n",
       "      <td>CORRYVILLE</td>\n",
       "      <td>CORRYVILLE</td>\n",
       "      <td>40 - PERSONAL WEAPONS (HANDS, FEET, TEETH, ETC.)</td>\n",
       "      <td>...</td>\n",
       "      <td>39.136645</td>\n",
       "      <td>51-60</td>\n",
       "      <td>WHITE</td>\n",
       "      <td>FEMALE</td>\n",
       "      <td>26-30</td>\n",
       "      <td>WHITE</td>\n",
       "      <td>MALE</td>\n",
       "      <td>1.0</td>\n",
       "      <td>1.0</td>\n",
       "      <td>45229.0</td>\n",
       "    </tr>\n",
       "    <tr>\n",
       "      <td>147095</td>\n",
       "      <td>31110066</td>\n",
       "      <td>11/17/2011 08:51:00 PM</td>\n",
       "      <td>11/17/2011 08:40:00 PM</td>\n",
       "      <td>11/17/2011 08:48:00 PM</td>\n",
       "      <td>CRIMINAL DAMAGING/ENDANGERING</td>\n",
       "      <td>47-STREET</td>\n",
       "      <td>THURSDAY</td>\n",
       "      <td>WEST PRICE HILL</td>\n",
       "      <td>WEST PRICE HILL</td>\n",
       "      <td>11--FIREARM (TYPE NOT STATED)</td>\n",
       "      <td>...</td>\n",
       "      <td>39.115022</td>\n",
       "      <td>18-25</td>\n",
       "      <td>WHITE</td>\n",
       "      <td>FEMALE</td>\n",
       "      <td>18-25</td>\n",
       "      <td>BLACK</td>\n",
       "      <td>MALE</td>\n",
       "      <td>5.0</td>\n",
       "      <td>3.0</td>\n",
       "      <td>45205.0</td>\n",
       "    </tr>\n",
       "    <tr>\n",
       "      <td>147096</td>\n",
       "      <td>11002934</td>\n",
       "      <td>07/11/2010 03:00:00 PM</td>\n",
       "      <td>07/09/2010 10:30:00 PM</td>\n",
       "      <td>07/09/2010 10:40:00 PM</td>\n",
       "      <td>AGGRAVATED MENACING</td>\n",
       "      <td>02-MULTI FAMILY</td>\n",
       "      <td>FRIDAY</td>\n",
       "      <td>OVER-THE-RHINE</td>\n",
       "      <td>OVER-THE-RHINE</td>\n",
       "      <td>40--PERSONAL WEAPONS (HANDS, FEET, TEETH, ETC.)</td>\n",
       "      <td>...</td>\n",
       "      <td>39.112050</td>\n",
       "      <td>31-40</td>\n",
       "      <td>BLACK</td>\n",
       "      <td>MALE</td>\n",
       "      <td>UNKNOWN</td>\n",
       "      <td>BLACK</td>\n",
       "      <td>MALE</td>\n",
       "      <td>1.0</td>\n",
       "      <td>2.0</td>\n",
       "      <td>45202.0</td>\n",
       "    </tr>\n",
       "    <tr>\n",
       "      <td>147097</td>\n",
       "      <td>159026963</td>\n",
       "      <td>09/30/2015 02:18:00 PM</td>\n",
       "      <td>09/30/2015 01:00:00 PM</td>\n",
       "      <td>09/30/2015 01:20:00 PM</td>\n",
       "      <td>ASSAULT</td>\n",
       "      <td>03-RESIDENTIAL FACILITY</td>\n",
       "      <td>WEDNESDAY</td>\n",
       "      <td>WALNUT HILLS</td>\n",
       "      <td>WALNUT HILLS</td>\n",
       "      <td>40 - PERSONAL WEAPONS (HANDS, FEET, TEETH, ETC.)</td>\n",
       "      <td>...</td>\n",
       "      <td>39.127156</td>\n",
       "      <td>61-70</td>\n",
       "      <td>BLACK</td>\n",
       "      <td>MALE</td>\n",
       "      <td>41-50</td>\n",
       "      <td>BLACK</td>\n",
       "      <td>MALE</td>\n",
       "      <td>1.0</td>\n",
       "      <td>1.0</td>\n",
       "      <td>45206.0</td>\n",
       "    </tr>\n",
       "  </tbody>\n",
       "</table>\n",
       "<p>147098 rows × 25 columns</p>\n",
       "</div>"
      ],
      "text/plain": [
       "       INCIDENT_NO           DATE_REPORTED               DATE_FROM  \\\n",
       "0        129036747  12/18/2012 10:30:00 PM  12/18/2012 10:24:00 PM   \n",
       "1        149026722  10/20/2014 11:09:00 AM  10/19/2014 10:00:00 PM   \n",
       "2        179011319  04/03/2017 08:50:00 PM  04/03/2017 05:00:00 PM   \n",
       "3        139026892  09/29/2013 10:46:00 PM  09/29/2013 08:00:00 PM   \n",
       "4        139014514  06/07/2013 08:33:00 PM  06/07/2013 08:20:00 PM   \n",
       "...            ...                     ...                     ...   \n",
       "147093   149028275  11/04/2014 06:10:00 PM  11/04/2014 05:40:00 PM   \n",
       "147094   189017619  06/30/2018 08:55:00 PM  06/30/2018 07:55:00 PM   \n",
       "147095    31110066  11/17/2011 08:51:00 PM  11/17/2011 08:40:00 PM   \n",
       "147096    11002934  07/11/2010 03:00:00 PM  07/09/2010 10:30:00 PM   \n",
       "147097   159026963  09/30/2015 02:18:00 PM  09/30/2015 01:00:00 PM   \n",
       "\n",
       "                       DATE_TO                        OFFENSE  \\\n",
       "0       12/18/2012 10:25:00 PM             AGGRAVATED ROBBERY   \n",
       "1       10/20/2014 10:30:00 AM                          THEFT   \n",
       "2       04/03/2017 05:10:00 PM             AGGRAVATED ROBBERY   \n",
       "3       09/29/2013 09:00:00 PM           MENACING BY STALKING   \n",
       "4       06/07/2013 08:30:00 PM                        ASSAULT   \n",
       "...                        ...                            ...   \n",
       "147093  11/04/2014 05:40:00 PM             AGGRAVATED ROBBERY   \n",
       "147094  06/30/2018 08:15:00 PM                        ASSAULT   \n",
       "147095  11/17/2011 08:48:00 PM  CRIMINAL DAMAGING/ENDANGERING   \n",
       "147096  07/09/2010 10:40:00 PM            AGGRAVATED MENACING   \n",
       "147097  09/30/2015 01:20:00 PM                        ASSAULT   \n",
       "\n",
       "                       LOCATION  DAYOFWEEK CPD_NEIGHBORHOOD SNA_NEIGHBORHOOD  \\\n",
       "0                     47-STREET    TUESDAY     WALNUT HILLS     WALNUT HILLS   \n",
       "1                48-PARKING LOT     SUNDAY     WALNUT HILLS     WALNUT HILLS   \n",
       "2                48-PARKING LOT     MONDAY       MOUNT AIRY         MT. AIRY   \n",
       "3         01-SINGLE FAMILY HOME     SUNDAY    COLLEGE  HILL     COLLEGE HILL   \n",
       "4                     47-STREET     FRIDAY         EVANSTON         EVANSTON   \n",
       "...                         ...        ...              ...              ...   \n",
       "147093                47-STREET    TUESDAY   OVER-THE-RHINE   OVER-THE-RHINE   \n",
       "147094              11-HOSPITAL   SATURDAY       CORRYVILLE       CORRYVILLE   \n",
       "147095                47-STREET   THURSDAY  WEST PRICE HILL  WEST PRICE HILL   \n",
       "147096          02-MULTI FAMILY     FRIDAY   OVER-THE-RHINE   OVER-THE-RHINE   \n",
       "147097  03-RESIDENTIAL FACILITY  WEDNESDAY     WALNUT HILLS     WALNUT HILLS   \n",
       "\n",
       "                                                 WEAPONS  ... LATITUDE_X  \\\n",
       "0                                           12 - HANDGUN  ...  39.126512   \n",
       "1                                              99 - NONE  ...  39.129501   \n",
       "2                                           12 - HANDGUN  ...  39.192750   \n",
       "3       40 - PERSONAL WEAPONS (HANDS, FEET, TEETH, ETC.)  ...  39.207029   \n",
       "4                                              99 - NONE  ...  39.140473   \n",
       "...                                                  ...  ...        ...   \n",
       "147093                                      12 - HANDGUN  ...  39.111243   \n",
       "147094  40 - PERSONAL WEAPONS (HANDS, FEET, TEETH, ETC.)  ...  39.136645   \n",
       "147095                     11--FIREARM (TYPE NOT STATED)  ...  39.115022   \n",
       "147096   40--PERSONAL WEAPONS (HANDS, FEET, TEETH, ETC.)  ...  39.112050   \n",
       "147097  40 - PERSONAL WEAPONS (HANDS, FEET, TEETH, ETC.)  ...  39.127156   \n",
       "\n",
       "        VICTIM_AGE  VICTIM_RACE VICTIM_GENDER  SUSPECT_AGE  SUSPECT_RACE  \\\n",
       "0            41-50        BLACK          MALE      UNKNOWN         BLACK   \n",
       "1            31-40        BLACK        FEMALE        31-40         WHITE   \n",
       "2         UNDER 18        BLACK          MALE     UNDER 18         BLACK   \n",
       "3            31-40        BLACK          MALE        26-30         BLACK   \n",
       "4            26-30        BLACK        FEMALE        18-25         BLACK   \n",
       "...            ...          ...           ...          ...           ...   \n",
       "147093       26-30        WHITE          MALE      UNKNOWN         BLACK   \n",
       "147094       51-60        WHITE        FEMALE        26-30         WHITE   \n",
       "147095       18-25        WHITE        FEMALE        18-25         BLACK   \n",
       "147096       31-40        BLACK          MALE      UNKNOWN         BLACK   \n",
       "147097       61-70        BLACK          MALE        41-50         BLACK   \n",
       "\n",
       "       SUSPECT_GENDER TOTALNUMBERVICTIMS TOTALSUSPECTS      ZIP  \n",
       "0                MALE                1.0           3.0  45206.0  \n",
       "1                MALE                1.0           2.0  45206.0  \n",
       "2                MALE                2.0           2.0  45239.0  \n",
       "3              FEMALE                2.0           1.0  45224.0  \n",
       "4              FEMALE                3.0           4.0  45207.0  \n",
       "...               ...                ...           ...      ...  \n",
       "147093           MALE                1.0           3.0  45202.0  \n",
       "147094           MALE                1.0           1.0  45229.0  \n",
       "147095           MALE                5.0           3.0  45205.0  \n",
       "147096           MALE                1.0           2.0  45202.0  \n",
       "147097           MALE                1.0           1.0  45206.0  \n",
       "\n",
       "[147098 rows x 25 columns]"
      ]
     },
     "execution_count": 19,
     "metadata": {},
     "output_type": "execute_result"
    }
   ],
   "source": [
    "crimes"
   ]
  },
  {
   "cell_type": "code",
   "execution_count": 16,
   "metadata": {},
   "outputs": [],
   "source": [
    "# We have categorize the offenses as violent, property and other crimes, \n",
    "#so let us take a look at the number of unique offense list"
   ]
  },
  {
   "cell_type": "code",
   "execution_count": 20,
   "metadata": {
    "scrolled": true
   },
   "outputs": [
    {
     "data": {
      "text/plain": [
       "array(['AGGRAVATED ROBBERY', 'THEFT', 'MENACING BY STALKING', 'ASSAULT',\n",
       "       'TELEPHONE HARASSMENT', 'AGGRAVATED MENACING', 'ROBBERY',\n",
       "       'FELONIOUS ASSAULT', 'DOMESTIC VIOLENCE', 'AGGRAVATED BURGLARY',\n",
       "       'CRIMINAL DAMAGING/ENDANGERING', 'MENACING',\n",
       "       'BREAKING AND ENTERING', 'ABDUCTION',\n",
       "       'VIOLATE PROTECTION ORDER/CONSENT AGREEMENT', 'PASSING BAD CHECKS',\n",
       "       'AGGRAVATED ASSAULT', 'BURGLARY', 'GROSS SEXUAL IMPOSITION',\n",
       "       'ENDANGERING CHILDREN', 'UNAUTHORIZED USE OF MOTOR VEHICLE',\n",
       "       'UNLAWFUL RESTRAINT', 'SEXUAL IMPOSITION', 'AGGRAVATED MURDER',\n",
       "       'MISUSE OF CREDIT CARD', 'TAKING THE IDENTITY OF ANOTHER',\n",
       "       'FELONIOUS ASSAULT - VICTIM SERIOUSLY HARMED',\n",
       "       'UNLAWFUL SEXUAL CONDUCT WITH A MINOR', 'FORGERY', 'MURDER',\n",
       "       'THEFT- WITHOUT CONSENT     M1F4',\n",
       "       'IMPROPERLY DISCHARGING FIREARM AT/INTO HABITATION/SCHOOL',\n",
       "       'TELECOMMUNICATIONS FRAUD', 'VANDALISM', 'KIDNAPPING',\n",
       "       'AGGRAVATED VEHICULAR ASSAULT', 'SEXUAL BATTERY',\n",
       "       'ETHNIC INTIMIDATION', 'FORGERY - WITHOUT AUTHORITY',\n",
       "       'CRIMINAL MISCHIEF',\n",
       "       'IMPERSONATING PEACE OFFICER/PRIVATE POLICEMAN',\n",
       "       'FELONIOUS ASSAULT - WEAPON OR ORDNANCE', 'VEHICULAR VANDALISM',\n",
       "       'CRIMINAL TRESPASS', 'UNAUTHORIZED USE OF PROPERTY',\n",
       "       'AGG ROBBERY - ARMED, DEADLY WEAPON', 'RECEIVING STOLEN PROPERTY',\n",
       "       'AGG ROBBERY - INFLICT/ATTEMPT SERIOUS HARM', 'INTIMIDATION',\n",
       "       'NEGLIGENT ASSAULT', 'AGG VEH HOM/VEH HOM/VEH MNSLGHTER',\n",
       "       'PUBLIC INDECENCY', 'AGGRAVATED TRESPASS',\n",
       "       'TELEPHONE HARASSMENT - ANONYMOUS',\n",
       "       'HAVING WEAPONS WHILE UNDER DISABILITY',\n",
       "       'ILLEGAL USE OF MINOR IN NUDITY ORIENTED MATERIAL',\n",
       "       'ENDANGERING CHILDREN-RISK HARM',\n",
       "       'TELEPHONE HARASS-ABUSE/THREATEN/ANNOY',\n",
       "       'PATIENT ABUSE; NEGLECT - ABUSE',\n",
       "       'ASSAULT - RECKLESSLY HARM VICTIM',\n",
       "       'CRIMINAL DAMAGING/ENDANGERING - KNOWINGLY, ANY MEANS',\n",
       "       'ASSAULT - KNOWINGLY HARM VICTIM', 'TAMPERING WITH RECORDS',\n",
       "       'CRIMINAL CHILD ENTICEMENT', 'ABDUCTION - RESTRAIN LIBERTY',\n",
       "       'PATIENT ABUSE; NEGLECT', 'INTERFERENCE WITH CUSTODY',\n",
       "       'FEL ASSLT - SEXUAL CONDUCT W/O DISCLOSING HIV KNOWLEDGE',\n",
       "       'SEXUAL BATTERY - VICTIM COERCED',\n",
       "       'SEXUAL IMPOSITION - VICTIM 13, 14, 15', 'RETALIATION',\n",
       "       'VIOL PROT ORDER/CONSENT AGREE-2903-203/2903-204',\n",
       "       'PERSONATING AN OFFICER', 'ENDANGERING CHILDREN - ABUSE',\n",
       "       'GROSS SEXUAL IMPOSITION - < 13 YRS, STATUTORY',\n",
       "       'KIDNAPPING - ENGAGE IN SEXUAL ACTIVITY',\n",
       "       'SEXUAL IMPOSITION - OFFENSIVE CONTACT',\n",
       "       'MISUSE OF CREDIT CARD - OBTAIN BY DECEPTION', 'INDUCING PANIC',\n",
       "       'PUBLIC INDECENCY - EXPOSURE',\n",
       "       'ROBBERY - USE/THREATEN IMMED USE OF FORCE',\n",
       "       'AGGRAVATED BURGLARY - INFLICT HARM',\n",
       "       'INTIMIDATION-PUBLIC SERV/PARTY OFF', 'IMPORTUNING',\n",
       "       'ROBBERY - DANGEROUS WEAPON, ORDNANCE',\n",
       "       'DOMESTIC VIOLENCE - KNOWINGLY HARM', 'AGGRAVATED ARSON',\n",
       "       'NEGLIGENT HOMICIDE',\n",
       "       'IMPROPERLY DISCHARGING FIREARM AT/INTO HABITATION/SCHOOL-OCCUPIED STRUCTURE',\n",
       "       'FAIL COMPLY ORDER/SIGNAL OF PO-ELUDE/FLEE',\n",
       "       'TAMPERING WITH COIN MACHINES', 'TELEPHONE HARASS-FAIL TO DESIST',\n",
       "       'EXTORTION', 'AGG BURGLARY-ARMED W/ DEADLY WEAPON, ORDNANCE',\n",
       "       'THEFT BY DECEPTION        M1F4',\n",
       "       'CRIMINAL MISCHIEF - MOVE/DEFACE/TAMPER PROP OF ANOTHER',\n",
       "       'DEFR LIVERY/HOSTELRY-ABSCONDED W/O PAYING',\n",
       "       'VIOL PROT ORDER/CONSENT AGREE-2919-26/3113-31',\n",
       "       'ENDANGERING CHILDREN-CORPORAL PUNISHMENT', 'MAKING FALSE ALARMS',\n",
       "       'SEXUAL IMPOSITION - VICTIM IMPAIRED',\n",
       "       'AGG ROBBERY - ARMED, DEADLY ORDNANCE',\n",
       "       'GROSS SEXUAL IMPOSITION - FORCE', 'VOLUNTARY MANSLAUGHTER',\n",
       "       'FAIL TO PROVIDE FOR FUNCTIONALLY IMPAIRED PERSON',\n",
       "       'AGGRAVATED ASSAULT - WEAPON OR ORDNANCE',\n",
       "       'THEFT- BEYOND SCOPE OF CNSNT M1F4', 'RECKLESS HOMICIDE',\n",
       "       'EMBEZZLEMENT', 'BURGLARY- TRESPASS OCC STRUCT TO COMMIT OFFENSE',\n",
       "       'UNAUTHORIZED USE OF MOTOR VEHICLE-JOY RIDING',\n",
       "       'INTIMIDATION-VICTIM/WITNESS',\n",
       "       'GROSS SEX IMP - VICT MENTAL/PHYSICAL COND',\n",
       "       'DEFRAUDING LIVERY/HOSTELRY-FAILED TO PAY',\n",
       "       'DISORDERLY CONDUCT-FIGHTING/THREATENING',\n",
       "       'UNLAWFUL USE TELECOM DEVICE',\n",
       "       'DISORDERLY CONDUCT - INTERFERING WITH OTHERS',\n",
       "       'SEXUAL BATTERY - MISTAKE FOR SPOUSE', 'BRIBERY',\n",
       "       'DISORDERLY CONDUCT-OFFENSIVE GEST/NOISE',\n",
       "       'THEFT - BY INTIMIDATION', 'ARSON',\n",
       "       'SEXUAL BATTERY - PARENT OR GUARDIAN',\n",
       "       'DEFR LIVERY/HOSTELRY-HIRED/RENTED W/O MEANS PAY',\n",
       "       'BURGLARY- TRESPASS STRUCT TO COMMIT OFFENSE',\n",
       "       'DISRUPTING PUBLIC SERVICE',\n",
       "       'ILLEGAL POSS FIREARM IN LIQUOR PERMIT PREMISES',\n",
       "       'ABDUCTION - REMOVE FROM PLACE FOUND', 'VOYEURISM',\n",
       "       'CONTRIB TO CHILD UNRULINESS/DELINQUENCY', 'DISORDERLY CONDUCT',\n",
       "       'INVOLUNTARY MANSLAUGHTER',\n",
       "       'CRIMINAL DAMAGING/ENDANGERING- RECKLESSLY,FIRE,FLOOD,EXPLODE',\n",
       "       'SAFECRACKING',\n",
       "       'BURGLARY- TRESPASS LIKELY OCC STRUCT COMMIT OFFENSE',\n",
       "       'HAVING WEAPONS UNDER DISABILITY-FUGITIVE FROM JUSTICE'],\n",
       "      dtype=object)"
      ]
     },
     "execution_count": 20,
     "metadata": {},
     "output_type": "execute_result"
    }
   ],
   "source": [
    "crimes.OFFENSE.unique()"
   ]
  },
  {
   "cell_type": "code",
   "execution_count": null,
   "metadata": {},
   "outputs": [],
   "source": [
    "#before we start analyzing let us convert the columns to lower case for ease of use , \n",
    "#we can also perform the same operation by using apply and lambda"
   ]
  },
  {
   "cell_type": "code",
   "execution_count": 21,
   "metadata": {},
   "outputs": [],
   "source": [
    "def lowercase(col):\n",
    "    return col.lower()"
   ]
  },
  {
   "cell_type": "code",
   "execution_count": 22,
   "metadata": {},
   "outputs": [],
   "source": [
    "crimes.columns =  [lowercase(x) for x in crimes.columns]"
   ]
  },
  {
   "cell_type": "code",
   "execution_count": null,
   "metadata": {},
   "outputs": [],
   "source": [
    "#Let us classify the crimes as violent by creating a function for the same and assingning it to a new column"
   ]
  },
  {
   "cell_type": "code",
   "execution_count": 23,
   "metadata": {},
   "outputs": [],
   "source": [
    "def violent(offense):\n",
    "    violent_crimes_list = ['homicide','rape','robbery','arson','manslaughter','aggravated assault']\n",
    "    if any(s in offense.lower() for s in violent_crimes_list):\n",
    "        vio = 1\n",
    "    else:\n",
    "        vio = 0\n",
    "    return vio"
   ]
  },
  {
   "cell_type": "code",
   "execution_count": 24,
   "metadata": {},
   "outputs": [],
   "source": [
    "crimes['isviolent'] = [violent(off) for off in crimes.offense]"
   ]
  },
  {
   "cell_type": "code",
   "execution_count": 25,
   "metadata": {},
   "outputs": [],
   "source": [
    "violnt_crims_cnt = len(crimes[crimes.isviolent==1])\n",
    "noviolnt_crims_cnt = len(crimes[crimes.isviolent==0])"
   ]
  },
  {
   "cell_type": "code",
   "execution_count": 26,
   "metadata": {},
   "outputs": [
    {
     "data": {
      "image/png": "[encoded data removed]",
      "text/plain": [
       "<Figure size 432x288 with 1 Axes>"
      ]
     },
     "metadata": {
      "needs_background": "light"
     },
     "output_type": "display_data"
    }
   ],
   "source": [
    "count = [violnt_crims_cnt,noviolnt_crims_cnt]\n",
    "plt.bar([0,1],count)\n",
    "plt.xticks([0,1],['Violent Crimes','Other Crimes'])\n",
    "plt.show()"
   ]
  },
  {
   "cell_type": "code",
   "execution_count": 27,
   "metadata": {},
   "outputs": [
    {
     "name": "stdout",
     "output_type": "stream",
     "text": [
      "15.518905763504604\n"
     ]
    }
   ],
   "source": [
    "print((violnt_crims_cnt/len(crimes.isviolent))*100)"
   ]
  },
  {
   "cell_type": "code",
   "execution_count": 28,
   "metadata": {},
   "outputs": [],
   "source": [
    "# we can see that violent crimes are 15% of the all the crimes "
   ]
  },
  {
   "cell_type": "code",
   "execution_count": 29,
   "metadata": {},
   "outputs": [],
   "source": [
    "year_crime = pd.DatetimeIndex((crimes[crimes.isviolent==1]).date_reported).year"
   ]
  },
  {
   "cell_type": "code",
   "execution_count": 30,
   "metadata": {},
   "outputs": [],
   "source": [
    "yrwise_crime= pd.DataFrame(data=year_crime.values)"
   ]
  },
  {
   "cell_type": "code",
   "execution_count": 31,
   "metadata": {},
   "outputs": [],
   "source": [
    "yrwise_crime.columns = ['year']"
   ]
  },
  {
   "cell_type": "code",
   "execution_count": 32,
   "metadata": {},
   "outputs": [],
   "source": [
    "vlnt_crime_yearwise = yrwise_crime['year'].value_counts()"
   ]
  },
  {
   "cell_type": "code",
   "execution_count": 33,
   "metadata": {},
   "outputs": [],
   "source": [
    "vlnt_crime_yearwise = vlnt_crime_yearwise.sort_index(ascending=True)"
   ]
  },
  {
   "cell_type": "code",
   "execution_count": 34,
   "metadata": {},
   "outputs": [
    {
     "data": {
      "image/png": "[encoded data removed]",
      "text/plain": [
       "<Figure size 432x288 with 1 Axes>"
      ]
     },
     "metadata": {
      "needs_background": "light"
     },
     "output_type": "display_data"
    }
   ],
   "source": [
    "bar_chart = vlnt_crime_yearwise.plot(kind='bar',colormap='Set1')\n",
    "bar_chart.set_ylabel('Number of Violent Crimes')\n",
    "bar_chart.set_xlabel('Year')\n",
    "bar_chart.set_title('Year wise Violent Crimes')\n",
    "plt.show()"
   ]
  },
  {
   "cell_type": "code",
   "execution_count": 149,
   "metadata": {},
   "outputs": [],
   "source": [
    "#In the previous chart ,we can see the year wise split of violen crimes , now let us analyze more"
   ]
  },
  {
   "cell_type": "code",
   "execution_count": 150,
   "metadata": {},
   "outputs": [],
   "source": [
    "#let us try to find the most affected and least affect nighborhoods of cincinnati and visualize them"
   ]
  },
  {
   "cell_type": "code",
   "execution_count": 37,
   "metadata": {},
   "outputs": [],
   "source": [
    "cpd_crime = crimes[crimes.isviolent==1].cpd_neighborhood"
   ]
  },
  {
   "cell_type": "code",
   "execution_count": 38,
   "metadata": {},
   "outputs": [],
   "source": [
    "neighwise_crime = pd.DataFrame(data=cpd_crime.values)"
   ]
  },
  {
   "cell_type": "code",
   "execution_count": 39,
   "metadata": {},
   "outputs": [],
   "source": [
    "neighwise_crime.columns = ['cpd_neighborhood']\n",
    "vlnt_crime_neighwise = neighwise_crime['cpd_neighborhood'].value_counts()\n",
    "vlnt_crime_neighwise = vlnt_crime_neighwise.sort_index(ascending =True)"
   ]
  },
  {
   "cell_type": "code",
   "execution_count": 46,
   "metadata": {},
   "outputs": [
    {
     "data": {
      "text/plain": [
       "WESTWOOD           1976\n",
       "OVER-THE-RHINE     1841\n",
       "EAST PRICE HILL    1644\n",
       "WEST PRICE HILL    1514\n",
       "AVONDALE           1331\n",
       "WALNUT HILLS       1159\n",
       "FAIRVIEW            944\n",
       "NORTHSIDE           793\n",
       "COLLEGE  HILL       741\n",
       "WEST  END           724\n",
       "Name: cpd_neighborhood, dtype: int64"
      ]
     },
     "execution_count": 46,
     "metadata": {},
     "output_type": "execute_result"
    }
   ],
   "source": [
    "vlnt_crime_neighwise.sort_values(ascending=False).head(10)"
   ]
  },
  {
   "cell_type": "code",
   "execution_count": 58,
   "metadata": {},
   "outputs": [
    {
     "data": {
      "text/plain": [
       "HYDE PARK              60\n",
       "MOUNT  ADAMS           52\n",
       "EAST  END              51\n",
       "SAYLER  PARK           47\n",
       "COLUMBIA / TUSCULUM    36\n",
       "MT.  LOOKOUT           29\n",
       "RIVERSIDE              26\n",
       "O'BRYONVILLE           19\n",
       "LINWOOD                 8\n",
       "CALIFORNIA              2\n",
       "Name: cpd_neighborhood, dtype: int64"
      ]
     },
     "execution_count": 58,
     "metadata": {},
     "output_type": "execute_result"
    }
   ],
   "source": [
    "vlnt_crimes_cpd_top10 = vlnt_crime_neighwise.sort_values(ascending=False).head(10)\n",
    "vlnt_crimes_cpd_low10 = vlnt_crime_neighwise.sort_values(ascending=False).tail(10)\n",
    "vlnt_crimes_cpd_low10"
   ]
  },
  {
   "cell_type": "code",
   "execution_count": 72,
   "metadata": {
    "scrolled": true
   },
   "outputs": [
    {
     "data": {
      "image/png": "[encoded data removed]",
      "text/plain": [
       "<Figure size 1224x360 with 2 Axes>"
      ]
     },
     "metadata": {
      "needs_background": "light"
     },
     "output_type": "display_data"
    }
   ],
   "source": [
    "plt.figure(figsize=[17,5])\n",
    "plt.subplot(1,2,1)\n",
    "bar_chart = vlnt_crimes_cpd_top10.sort_values(ascending = True).plot(kind='barh',colormap='Set1')\n",
    "bar_chart.set_ylabel('Cpd Neighborhood')\n",
    "bar_chart.set_xlabel('Number of Violent Crimes')\n",
    "bar_chart.set_title('Top 10 Neighborhood(violent crimes)')\n",
    "plt.subplot(1,2,2)\n",
    "bar_chart = vlnt_crimes_cpd_low10.plot(kind='barh',colormap='winter')\n",
    "bar_chart.set_xlabel('Number of Violent Crimes')\n",
    "bar_chart.set_title('Neighborhood with less violent crimes')\n",
    "plt.show()"
   ]
  },
  {
   "cell_type": "code",
   "execution_count": 151,
   "metadata": {},
   "outputs": [],
   "source": [
    "# As we can see the the top 10 most affected and least affected neighborhoods with violent crimes"
   ]
  },
  {
   "cell_type": "code",
   "execution_count": 152,
   "metadata": {},
   "outputs": [],
   "source": [
    "#Now let us get to know the split of crimes in the most affected locaities"
   ]
  },
  {
   "cell_type": "code",
   "execution_count": 73,
   "metadata": {},
   "outputs": [],
   "source": [
    "def prperty(offense):\n",
    "    property_crimes_list = ['burglary','theft']\n",
    "    if any(s in offense.lower() for s in property_crimes_list):\n",
    "        pro = 1\n",
    "    else:\n",
    "        pro = 0\n",
    "    return pro"
   ]
  },
  {
   "cell_type": "code",
   "execution_count": 74,
   "metadata": {},
   "outputs": [],
   "source": [
    "crimes['ispropcrime'] = [prperty(off) for off in crimes.offense]\n",
    "crimes['isothercrime'] = np.where((crimes.isviolent == 0) & (crimes.ispropcrime == 0) ,1,0)"
   ]
  },
  {
   "cell_type": "code",
   "execution_count": null,
   "metadata": {},
   "outputs": [],
   "source": [
    "cpd_rep_area = crimes.groupby('cpd_neighborhood')['longitude_x','latitude_x'].mean().reset_index()"
   ]
  },
  {
   "cell_type": "code",
   "execution_count": 87,
   "metadata": {},
   "outputs": [],
   "source": [
    "crimes_cpd_stats = crimes.groupby('cpd_neighborhood')['isviolent','ispropcrime','isothercrime'].apply(lambda x : x.sum())"
   ]
  },
  {
   "cell_type": "code",
   "execution_count": 92,
   "metadata": {},
   "outputs": [],
   "source": [
    "crime_tp10 = vlnt_crime_neighwise.sort_values(ascending=False).head(10)"
   ]
  },
  {
   "cell_type": "code",
   "execution_count": 107,
   "metadata": {},
   "outputs": [],
   "source": [
    "crime_tp10.columns = ['cpd_neighborhood','total_crimes']"
   ]
  },
  {
   "cell_type": "code",
   "execution_count": 115,
   "metadata": {},
   "outputs": [],
   "source": [
    "crimes_cpd_stats = pd.merge(crimes_cpd_stats,crime_tp10)"
   ]
  },
  {
   "cell_type": "code",
   "execution_count": 123,
   "metadata": {},
   "outputs": [],
   "source": [
    "crimes_cpd_stats = crimes_cpd_stats.drop(['level_0','index'],axis=1)"
   ]
  },
  {
   "cell_type": "code",
   "execution_count": 157,
   "metadata": {},
   "outputs": [
    {
     "data": {
      "image/png": "[encoded data removed]",
      "text/plain": [
       "<Figure size 432x288 with 1 Axes>"
      ]
     },
     "metadata": {
      "needs_background": "light"
     },
     "output_type": "display_data"
    }
   ],
   "source": [
    "bars = np.add(crimes_cpd_stats.isothercrime, crimes_cpd_stats.ispropcrime).tolist()\n",
    "r = [0,1,2,3,4,5,6,7,8,9]\n",
    "plt.bar(r, crimes_cpd_stats.isothercrime, color='#ADD8E6', edgecolor='white', width=1)\n",
    "plt.bar(r,crimes_cpd_stats.ispropcrime,bottom=crimes_cpd_stats.isothercrime, color='#FFA500', edgecolor='white', width=1)\n",
    "plt.bar(r, crimes_cpd_stats.isviolent,bottom=bars, color='#FF0000', edgecolor='white', width=1)\n",
    "plt.xticks(r, crimes_cpd_stats.cpd_neighborhood,rotation =90)\n",
    "plt.xlabel(\"Cpd_Neighborhood\")\n",
    "plt.show()"
   ]
  },
  {
   "cell_type": "code",
   "execution_count": 77,
   "metadata": {},
   "outputs": [],
   "source": [
    "crimes.date_to = pd.to_datetime(crimes.date_to,errors='coerce')"
   ]
  },
  {
   "cell_type": "code",
   "execution_count": 81,
   "metadata": {},
   "outputs": [
    {
     "data": {
      "text/plain": [
       "(147098, 28)"
      ]
     },
     "execution_count": 81,
     "metadata": {},
     "output_type": "execute_result"
    }
   ],
   "source": [
    "crimes.shape"
   ]
  },
  {
   "cell_type": "code",
   "execution_count": 83,
   "metadata": {},
   "outputs": [],
   "source": [
    "crimes = crimes.dropna()"
   ]
  },
  {
   "cell_type": "code",
   "execution_count": 84,
   "metadata": {},
   "outputs": [
    {
     "data": {
      "text/plain": [
       "(147097, 28)"
      ]
     },
     "execution_count": 84,
     "metadata": {},
     "output_type": "execute_result"
    }
   ],
   "source": [
    "crimes.shape"
   ]
  },
  {
   "cell_type": "code",
   "execution_count": 147,
   "metadata": {},
   "outputs": [],
   "source": [
    "crimes = crimes[crimes.date_to > datetime.strptime('2019 03 01','%Y %m %d')].reset_index()"
   ]
  },
  {
   "cell_type": "code",
   "execution_count": 148,
   "metadata": {},
   "outputs": [],
   "source": [
    "crimes = crimes.drop(['index', 'incident_no','sna_neighborhood', 'weapons', 'date_of_clearance', 'hour_from',\n",
    "       'hour_to', 'address_x','victim_age',\n",
    "       'victim_race', 'victim_gender', 'suspect_age', 'suspect_race',\n",
    "       'suspect_gender', 'totalnumbervictims', 'totalsuspects','location'],axis = 1)"
   ]
  },
  {
   "cell_type": "code",
   "execution_count": null,
   "metadata": {},
   "outputs": [],
   "source": [
    "crimes['date'] = crimes['date_to'].dt.date"
   ]
  },
  {
   "cell_type": "code",
   "execution_count": null,
   "metadata": {},
   "outputs": [],
   "source": [
    "crimes"
   ]
  },
  {
   "cell_type": "code",
   "execution_count": null,
   "metadata": {},
   "outputs": [],
   "source": [
    "weather = pd.read_csv('D:\\python\\Python_project\\Datasets\\weather_cinci.csv')"
   ]
  },
  {
   "cell_type": "code",
   "execution_count": null,
   "metadata": {},
   "outputs": [],
   "source": [
    "crimes_rep_area = crimes.groupby('cpd_neighborhood').agg()"
   ]
  },
  {
   "cell_type": "code",
   "execution_count": null,
   "metadata": {},
   "outputs": [],
   "source": [
    "cpd_rep_area.columns = [['cpd_neighborhood','longitude_x','latitude_x']]"
   ]
  },
  {
   "cell_type": "code",
   "execution_count": null,
   "metadata": {},
   "outputs": [],
   "source": [
    "clusterer = KMeans(n_clusters=53,random_state=101).fit(cpd_rep_area[['longitude_x','latitude_x']])"
   ]
  },
  {
   "cell_type": "code",
   "execution_count": null,
   "metadata": {},
   "outputs": [],
   "source": [
    "weather['date'] = weather['date'].apply( lambda d : datetime.strptime(d,'%Y-%m-%d'))"
   ]
  },
  {
   "cell_type": "code",
   "execution_count": null,
   "metadata": {},
   "outputs": [],
   "source": [
    "weather['date'] = weather['date'].dt.date"
   ]
  },
  {
   "cell_type": "code",
   "execution_count": null,
   "metadata": {},
   "outputs": [],
   "source": [
    "crimes = pd.merge(crimes,weather,left_on='date',right_on='date')"
   ]
  },
  {
   "cell_type": "code",
   "execution_count": null,
   "metadata": {},
   "outputs": [],
   "source": [
    "crimes.head()"
   ]
  },
  {
   "cell_type": "code",
   "execution_count": null,
   "metadata": {},
   "outputs": [],
   "source": [
    "crime_stats = crimes.groupby('cpd_neighborhood')['isviolent','ispropcrime','isothercrime'].apply(lambda x : x.sum()).reset_index()"
   ]
  },
  {
   "cell_type": "code",
   "execution_count": null,
   "metadata": {},
   "outputs": [],
   "source": [
    "crime_stats.columns = ['cpd_neighborhood','sumviolent','sumpropcrime','sumothercrime']"
   ]
  },
  {
   "cell_type": "code",
   "execution_count": null,
   "metadata": {},
   "outputs": [],
   "source": [
    "X = pd.merge(crimes,crime_stats,on='cpd_neighborhood')"
   ]
  },
  {
   "cell_type": "code",
   "execution_count": null,
   "metadata": {},
   "outputs": [],
   "source": [
    "X.columns"
   ]
  },
  {
   "cell_type": "code",
   "execution_count": null,
   "metadata": {},
   "outputs": [],
   "source": [
    "X = X.drop(['date_reported', 'date_from', 'date_to','dayofweek',\n",
    "       'cpd_neighborhood', 'longitude_x', 'latitude_x','ispropcrime', 'isothercrime', 'date'],axis=1)"
   ]
  },
  {
   "cell_type": "code",
   "execution_count": null,
   "metadata": {},
   "outputs": [],
   "source": [
    "y = X['isviolent']"
   ]
  },
  {
   "cell_type": "code",
   "execution_count": null,
   "metadata": {},
   "outputs": [],
   "source": [
    "X = X.drop(['offense'],axis=1)"
   ]
  },
  {
   "cell_type": "code",
   "execution_count": null,
   "metadata": {},
   "outputs": [],
   "source": [
    "X = X.drop(['isviolent'],axis=1)"
   ]
  },
  {
   "cell_type": "code",
   "execution_count": null,
   "metadata": {},
   "outputs": [],
   "source": [
    "X_train, X_test, y_train, y_test = train_test_split(X, y, test_size=0.3, random_state=1)"
   ]
  },
  {
   "cell_type": "code",
   "execution_count": null,
   "metadata": {},
   "outputs": [],
   "source": [
    "clf = DecisionTreeClassifier()\n",
    "\n",
    "# Train Decision Tree Classifer\n",
    "clf = clf.fit(X_train,y_train)\n",
    "\n",
    "#Predict the response for test dataset\n",
    "y_pred = clf.predict(X_test)"
   ]
  },
  {
   "cell_type": "code",
   "execution_count": null,
   "metadata": {},
   "outputs": [],
   "source": [
    "print(\"Accuracy:\",metrics.accuracy_score(y_test, y_pred))"
   ]
  },
  {
   "cell_type": "code",
   "execution_count": null,
   "metadata": {},
   "outputs": [],
   "source": [
    "dot_data = StringIO()\n",
    "export_graphviz(clf, out_file=dot_data,  \n",
    "                filled=True, rounded=True,\n",
    "                special_characters=True,feature_names = X.columns,class_names=['0','1'])\n",
    "graph = pydotplus.graph_from_dot_data(dot_data.getvalue())  \n",
    "graph.write_png('crimes.png')\n",
    "Image(graph.create_png())"
   ]
  },
  {
   "cell_type": "code",
   "execution_count": null,
   "metadata": {},
   "outputs": [],
   "source": [
    "X_train, X_test, y_train, y_test = train_test_split(X, y, test_size=0.3, random_state=1)\n",
    "logreg = LogisticRegression()\n",
    "logreg.fit(X_train,y_train)\n",
    "y_pred=logreg.predict(X_test)"
   ]
  },
  {
   "cell_type": "code",
   "execution_count": null,
   "metadata": {},
   "outputs": [],
   "source": [
    "print(\"Accuracy:\",metrics.accuracy_score(y_test, y_pred))"
   ]
  },
  {
   "cell_type": "code",
   "execution_count": null,
   "metadata": {},
   "outputs": [],
   "source": [
    "rndfores=RandomForestClassifier(n_estimators=100)\n",
    "\n",
    "rndfores.fit(X_train,y_train)\n",
    "\n",
    "y_pred=rndfores.predict(X_test)"
   ]
  },
  {
   "cell_type": "code",
   "execution_count": null,
   "metadata": {},
   "outputs": [],
   "source": [
    "print(\"Accuracy:\",metrics.accuracy_score(y_test, y_pred))"
   ]
  },
  {
   "cell_type": "code",
   "execution_count": null,
   "metadata": {},
   "outputs": [],
   "source": []
  }
 ],
 "metadata": {
  "kernelspec": {
   "display_name": "Python 3",
   "language": "python",
   "name": "python3"
  },
  "language_info": {
   "codemirror_mode": {
    "name": "ipython",
    "version": 3
   },
   "file_extension": ".py",
   "mimetype": "text/x-python",
   "name": "python",
   "nbconvert_exporter": "python",
   "pygments_lexer": "ipython3",
   "version": "3.7.4"
  }
 },
 "nbformat": 4,
 "nbformat_minor": 2
}
